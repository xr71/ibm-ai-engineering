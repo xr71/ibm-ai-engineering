{
 "cells": [
  {
   "cell_type": "markdown",
   "metadata": {},
   "source": [
    "Welcome to exercise one of week two of “Apache Spark for Scalable Machine Learning on BigData”. In this exercise you’ll read a DataFrame in order to perform a simple statistical analysis. Then you’ll rebalance the dataset. No worries, we’ll explain everything to you, let’s get started.\n",
    "\n",
    "Let’s create a data frame from a remote file by downloading it:\n",
    "\n",
    "\n"
   ]
  },
  {
   "cell_type": "markdown",
   "metadata": {},
   "source": [
    "This notebook is designed to run in a IBM Watson Studio Apache Spark runtime. In case you are running it in an IBM Watson Studio standard runtime or outside Watson Studio, we install Apache Spark in local mode for test purposes only. Please don't use it in production."
   ]
  },
  {
   "cell_type": "code",
   "execution_count": null,
   "metadata": {},
   "outputs": [],
   "source": [
    "!pip install --upgrade pip"
   ]
  },
  {
   "cell_type": "code",
   "execution_count": null,
   "metadata": {},
   "outputs": [],
   "source": [
    "if not ('sc' in locals() or 'sc' in globals()):\n",
    "    print('It seems you are note running in a IBM Watson Studio Apache Spark Notebook. You might be running in a IBM Watson Studio Default Runtime or outside IBM Waston Studio. Therefore installing local Apache Spark environment for you. Please do not use in Production')\n",
    "    \n",
    "    from pip import main\n",
    "    main(['install', 'pyspark==2.4.5'])\n",
    "    \n",
    "    from pyspark import SparkContext, SparkConf\n",
    "    from pyspark.sql import SparkSession\n",
    "\n",
    "    sc = SparkContext.getOrCreate(SparkConf().setMaster(\"local[*]\"))\n",
    "    \n",
    "    spark = SparkSession \\\n",
    "        .builder \\\n",
    "        .getOrCreate()"
   ]
  },
  {
   "cell_type": "code",
   "execution_count": 1,
   "metadata": {},
   "outputs": [],
   "source": [
    "import findspark"
   ]
  },
  {
   "cell_type": "code",
   "execution_count": 2,
   "metadata": {},
   "outputs": [],
   "source": [
    "findspark.init(\"/home/xuren/pyspark/spark-2.4.5-bin-hadoop2.7/\")"
   ]
  },
  {
   "cell_type": "code",
   "execution_count": 3,
   "metadata": {},
   "outputs": [],
   "source": [
    "import pyspark\n",
    "\n",
    "spark = pyspark.sql.SparkSession.builder.getOrCreate()"
   ]
  },
  {
   "cell_type": "code",
   "execution_count": 4,
   "metadata": {},
   "outputs": [
    {
     "name": "stdout",
     "output_type": "stream",
     "text": [
      "Will not apply HSTS. The HSTS database must be a regular and non-world-writable file.\n",
      "ERROR: could not open HSTS store at '/home/xuren/.wget-hsts'. HSTS will be disabled.\n",
      "--2020-04-24 22:18:00--  https://github.com/IBM/coursera/raw/master/hmp.parquet\n",
      "Resolving github.com (github.com)... 52.74.223.119\n",
      "Connecting to github.com (github.com)|52.74.223.119|:443... connected.\n",
      "HTTP request sent, awaiting response... 301 Moved Permanently\n",
      "Location: https://github.com/IBM/skillsnetwork/raw/master/hmp.parquet [following]\n",
      "--2020-04-24 22:18:00--  https://github.com/IBM/skillsnetwork/raw/master/hmp.parquet\n",
      "Reusing existing connection to github.com:443.\n",
      "HTTP request sent, awaiting response... 302 Found\n",
      "Location: https://raw.githubusercontent.com/IBM/skillsnetwork/master/hmp.parquet [following]\n",
      "--2020-04-24 22:18:00--  https://raw.githubusercontent.com/IBM/skillsnetwork/master/hmp.parquet\n",
      "Resolving raw.githubusercontent.com (raw.githubusercontent.com)... 151.101.8.133\n",
      "Connecting to raw.githubusercontent.com (raw.githubusercontent.com)|151.101.8.133|:443... connected.\n",
      "HTTP request sent, awaiting response... 200 OK\n",
      "Length: 932997 (911K) [application/octet-stream]\n",
      "Saving to: ‘hmp.parquet’\n",
      "\n",
      "hmp.parquet         100%[===================>] 911.13K  1.64MB/s    in 0.5s    \n",
      "\n",
      "2020-04-24 22:18:01 (1.64 MB/s) - ‘hmp.parquet’ saved [932997/932997]\n",
      "\n"
     ]
    }
   ],
   "source": [
    "# delete files from previous runs\n",
    "!rm -f hmp.parquet*\n",
    "\n",
    "# download the file containing the data in PARQUET format\n",
    "!wget https://github.com/IBM/coursera/raw/master/hmp.parquet\n",
    "    \n",
    "# create a dataframe out of it\n",
    "df = spark.read.parquet('hmp.parquet')\n",
    "\n",
    "# register a corresponding query table\n",
    "df.createOrReplaceTempView('df')"
   ]
  },
  {
   "cell_type": "markdown",
   "metadata": {},
   "source": [
    "Let’s have a look at the data set first. This dataset contains sensor recordings from different movement activities as we will see in the next week’s lectures. X, Y and Z contain accelerometer sensor values whereas the class field contains information about which movement has been recorded. The source field is optional and can be used for data lineage since it contains the file name of the original file where the particular row was imported from.\n",
    "\n",
    "More details on the data set can be found here:\n",
    "https://github.com/wchill/HMP_Dataset\n"
   ]
  },
  {
   "cell_type": "code",
   "execution_count": 5,
   "metadata": {},
   "outputs": [
    {
     "name": "stdout",
     "output_type": "stream",
     "text": [
      "+---+---+---+--------------------+-----------+\n",
      "|  x|  y|  z|              source|      class|\n",
      "+---+---+---+--------------------+-----------+\n",
      "| 22| 49| 35|Accelerometer-201...|Brush_teeth|\n",
      "| 22| 49| 35|Accelerometer-201...|Brush_teeth|\n",
      "| 22| 52| 35|Accelerometer-201...|Brush_teeth|\n",
      "| 22| 52| 35|Accelerometer-201...|Brush_teeth|\n",
      "| 21| 52| 34|Accelerometer-201...|Brush_teeth|\n",
      "| 22| 51| 34|Accelerometer-201...|Brush_teeth|\n",
      "| 20| 50| 35|Accelerometer-201...|Brush_teeth|\n",
      "| 22| 52| 34|Accelerometer-201...|Brush_teeth|\n",
      "| 22| 50| 34|Accelerometer-201...|Brush_teeth|\n",
      "| 22| 51| 35|Accelerometer-201...|Brush_teeth|\n",
      "| 21| 51| 33|Accelerometer-201...|Brush_teeth|\n",
      "| 20| 50| 34|Accelerometer-201...|Brush_teeth|\n",
      "| 21| 49| 33|Accelerometer-201...|Brush_teeth|\n",
      "| 21| 49| 33|Accelerometer-201...|Brush_teeth|\n",
      "| 20| 51| 35|Accelerometer-201...|Brush_teeth|\n",
      "| 18| 49| 34|Accelerometer-201...|Brush_teeth|\n",
      "| 19| 48| 34|Accelerometer-201...|Brush_teeth|\n",
      "| 16| 53| 34|Accelerometer-201...|Brush_teeth|\n",
      "| 18| 52| 35|Accelerometer-201...|Brush_teeth|\n",
      "| 18| 51| 32|Accelerometer-201...|Brush_teeth|\n",
      "+---+---+---+--------------------+-----------+\n",
      "only showing top 20 rows\n",
      "\n",
      "root\n",
      " |-- x: integer (nullable = true)\n",
      " |-- y: integer (nullable = true)\n",
      " |-- z: integer (nullable = true)\n",
      " |-- source: string (nullable = true)\n",
      " |-- class: string (nullable = true)\n",
      "\n"
     ]
    }
   ],
   "source": [
    "df.show()\n",
    "df.printSchema()"
   ]
  },
  {
   "cell_type": "markdown",
   "metadata": {},
   "source": [
    "This is a classical classification data set. One thing we always do during data analysis is checking if the classes are balanced. In other words, if there are more or less the same number of example in each class. Let’s find out by a simple aggregation using SQL."
   ]
  },
  {
   "cell_type": "code",
   "execution_count": 6,
   "metadata": {},
   "outputs": [
    {
     "data": {
      "text/plain": [
       "446529"
      ]
     },
     "execution_count": 6,
     "metadata": {},
     "output_type": "execute_result"
    }
   ],
   "source": [
    "df.count()"
   ]
  },
  {
   "cell_type": "code",
   "execution_count": 7,
   "metadata": {},
   "outputs": [
    {
     "name": "stdout",
     "output_type": "stream",
     "text": [
      "+--------------+--------+\n",
      "|         class|count(1)|\n",
      "+--------------+--------+\n",
      "| Use_telephone|   15225|\n",
      "| Standup_chair|   25417|\n",
      "|      Eat_meat|   31236|\n",
      "|     Getup_bed|   45801|\n",
      "|   Drink_glass|   42792|\n",
      "|    Pour_water|   41673|\n",
      "|     Comb_hair|   23504|\n",
      "|          Walk|   92254|\n",
      "|  Climb_stairs|   40258|\n",
      "| Sitdown_chair|   25036|\n",
      "|   Liedown_bed|   11446|\n",
      "|Descend_stairs|   15375|\n",
      "|   Brush_teeth|   29829|\n",
      "|      Eat_soup|    6683|\n",
      "+--------------+--------+\n",
      "\n"
     ]
    }
   ],
   "source": [
    "spark.sql('select class,count(*) from df group by class').show()"
   ]
  },
  {
   "cell_type": "markdown",
   "metadata": {},
   "source": [
    "As you can see there is quite an imbalance between classes. Before we dig into this, let’s re-write the same query using the DataFrame API – just in case you are not familiar with SQL. As we’ve learned before, it doesn’t matter if you express your queries with SQL or the DataFrame API – it all gets boiled down into the same execution plan optimized by Tungsten and accelerated by Catalyst. You can even mix and match SQL and DataFrame API code if you like.\n",
    "\n",
    "Again, more details on the API can be found here:\n",
    "https://spark.apache.org/docs/latest/api/python/pyspark.sql.html#pyspark.sql.DataFrame\n"
   ]
  },
  {
   "cell_type": "code",
   "execution_count": 8,
   "metadata": {},
   "outputs": [
    {
     "name": "stdout",
     "output_type": "stream",
     "text": [
      "+--------------+-----+\n",
      "|         class|count|\n",
      "+--------------+-----+\n",
      "| Use_telephone|15225|\n",
      "| Standup_chair|25417|\n",
      "|      Eat_meat|31236|\n",
      "|     Getup_bed|45801|\n",
      "|   Drink_glass|42792|\n",
      "|    Pour_water|41673|\n",
      "|     Comb_hair|23504|\n",
      "|          Walk|92254|\n",
      "|  Climb_stairs|40258|\n",
      "| Sitdown_chair|25036|\n",
      "|   Liedown_bed|11446|\n",
      "|Descend_stairs|15375|\n",
      "|   Brush_teeth|29829|\n",
      "|      Eat_soup| 6683|\n",
      "+--------------+-----+\n",
      "\n"
     ]
    }
   ],
   "source": [
    "df.groupBy('class').count().show()"
   ]
  },
  {
   "cell_type": "markdown",
   "metadata": {},
   "source": [
    "Let’s create a bar plot from this data. We’re using the pixidust library, which is Open Source, because of its simplicity. But any other library like matplotlib is fine as well. "
   ]
  },
  {
   "cell_type": "code",
   "execution_count": null,
   "metadata": {},
   "outputs": [],
   "source": []
  },
  {
   "cell_type": "code",
   "execution_count": null,
   "metadata": {
    "pixiedust": {
     "displayParams": {
      "chartsize": "100",
      "handlerId": "barChart",
      "keyFields": "class",
      "legend": "true",
      "mpld3": "true",
      "orientation": "horizontal",
      "rendererId": "matplotlib",
      "sortby": "Values ASC",
      "valueFields": "count"
     }
    }
   },
   "outputs": [
    {
     "data": {
      "text/html": [
       "<style type=\"text/css\">.pd_warning{display:none;}</style><div class=\"pd_warning\"><em>Hey, there's something awesome here! To see it, open this notebook outside GitHub, in a viewer like Jupyter</em></div>"
      ],
      "text/plain": [
       "<IPython.core.display.HTML object>"
      ]
     },
     "metadata": {},
     "output_type": "display_data"
    }
   ],
   "source": [
    "import pixiedust\n",
    "from pyspark.sql.functions import col\n",
    "counts = df.groupBy('class').count().orderBy('count')\n",
    "display(counts)"
   ]
  },
  {
   "cell_type": "markdown",
   "metadata": {},
   "source": [
    "This looks nice, but it would be nice if we can aggregate further to obtain some quantitative metrics on the imbalance like, min, max, mean and standard deviation. If we divide max by min we get a measure called minmax ration which tells us something about the relationship between the smallest and largest class. Again, let’s first use SQL for those of you familiar with SQL. Don’t be scared, we’re used nested sub-selects, basically selecting from a result of a SQL query like it was a table. All within on SQL statement."
   ]
  },
  {
   "cell_type": "code",
   "execution_count": 10,
   "metadata": {},
   "outputs": [
    {
     "name": "stdout",
     "output_type": "stream",
     "text": [
      "+----+-----+------------------+------------------+-----------------+\n",
      "| min|  max|              mean|            stddev|      minmaxratio|\n",
      "+----+-----+------------------+------------------+-----------------+\n",
      "|6683|92254|31894.928571428572|21284.893716741157|13.80427951518779|\n",
      "+----+-----+------------------+------------------+-----------------+\n",
      "\n"
     ]
    }
   ],
   "source": [
    "spark.sql('''\n",
    "    select \n",
    "        *,\n",
    "        max/min as minmaxratio -- compute minmaxratio based on previously computed values\n",
    "        from (\n",
    "            select \n",
    "                min(ct) as min, -- compute minimum value of all classes\n",
    "                max(ct) as max, -- compute maximum value of all classes\n",
    "                mean(ct) as mean, -- compute mean between all classes\n",
    "                stddev(ct) as stddev -- compute standard deviation between all classes\n",
    "                from (\n",
    "                    select\n",
    "                        count(*) as ct -- count the number of rows per class and rename it to ct\n",
    "                        from df -- access the temporary query table called df backed by DataFrame df\n",
    "                        group by class -- aggrecate over class\n",
    "                )\n",
    "        )   \n",
    "''').show()"
   ]
  },
  {
   "cell_type": "markdown",
   "metadata": {},
   "source": [
    "The same query can be expressed using the DataFrame API. Again, don’t be scared. It’s just a sequential expression of transformation steps. You now an choose which syntax you like better."
   ]
  },
  {
   "cell_type": "code",
   "execution_count": 11,
   "metadata": {},
   "outputs": [
    {
     "name": "stdout",
     "output_type": "stream",
     "text": [
      "+----+-----+------------------+------------------+-----------------+\n",
      "| min|  max|              mean|            stddev|      minmaxratio|\n",
      "+----+-----+------------------+------------------+-----------------+\n",
      "|6683|92254|31894.928571428572|21284.893716741157|13.80427951518779|\n",
      "+----+-----+------------------+------------------+-----------------+\n",
      "\n"
     ]
    }
   ],
   "source": [
    "from pyspark.sql.functions import col, min, max, mean, stddev\n",
    "\n",
    "df \\\n",
    "    .groupBy('class') \\\n",
    "    .count() \\\n",
    "    .select([ \n",
    "        min(col(\"count\")).alias('min'), \n",
    "        max(col(\"count\")).alias('max'), \n",
    "        mean(col(\"count\")).alias('mean'), \n",
    "        stddev(col(\"count\")).alias('stddev') \n",
    "    ]) \\\n",
    "    .select([\n",
    "        col('*'),\n",
    "        (col(\"max\") / col(\"min\")).alias('minmaxratio')\n",
    "    ]) \\\n",
    "    .show()\n"
   ]
  },
  {
   "cell_type": "markdown",
   "metadata": {},
   "source": [
    "Now it’s time for you to work on the data set. First, please create a table of all classes with the respective counts, but this time, please order the table by the count number, ascending."
   ]
  },
  {
   "cell_type": "code",
   "execution_count": 14,
   "metadata": {},
   "outputs": [
    {
     "name": "stdout",
     "output_type": "stream",
     "text": [
      "+--------------+------+\n",
      "|         class|ccount|\n",
      "+--------------+------+\n",
      "|          Walk| 92254|\n",
      "|     Getup_bed| 45801|\n",
      "|   Drink_glass| 42792|\n",
      "|    Pour_water| 41673|\n",
      "|  Climb_stairs| 40258|\n",
      "|      Eat_meat| 31236|\n",
      "|   Brush_teeth| 29829|\n",
      "| Standup_chair| 25417|\n",
      "| Sitdown_chair| 25036|\n",
      "|     Comb_hair| 23504|\n",
      "|Descend_stairs| 15375|\n",
      "| Use_telephone| 15225|\n",
      "|   Liedown_bed| 11446|\n",
      "|      Eat_soup|  6683|\n",
      "+--------------+------+\n",
      "\n"
     ]
    }
   ],
   "source": [
    "spark.sql(\"\"\"\n",
    "    select class, count(*) as ccount\n",
    "    from df\n",
    "    group by class\n",
    "    order by count(*) desc\n",
    "\"\"\").show()"
   ]
  },
  {
   "cell_type": "markdown",
   "metadata": {},
   "source": [
    "Pixiedust is a very sophisticated library. It takes care of sorting as well. Please modify the bar chart so that it gets sorted by the number of elements per class, ascending. Hint: It’s an option available in the UI once rendered using the display() function."
   ]
  },
  {
   "cell_type": "code",
   "execution_count": null,
   "metadata": {
    "pixiedust": {
     "displayParams": {
      "chartsize": "70",
      "handlerId": "barChart",
      "keyFields": "class",
      "orientation": "horizontal",
      "sortby": "Values DESC",
      "valueFields": "ccount"
     }
    }
   },
   "outputs": [
    {
     "data": {
      "text/html": [
       "<style type=\"text/css\">.pd_warning{display:none;}</style><div class=\"pd_warning\"><em>Hey, there's something awesome here! To see it, open this notebook outside GitHub, in a viewer like Jupyter</em></div><img style=\"max-width:initial !important\" src=\"data:image/png;base64,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\" class=\"pd_save is-viewer-good\">"
      ],
      "text/plain": [
       "<IPython.core.display.HTML object>"
      ]
     },
     "metadata": {},
     "output_type": "display_data"
    }
   ],
   "source": [
    "counts_d = spark.sql(\"\"\"\n",
    "    select class, count(*) as ccount\n",
    "    from df\n",
    "    group by class\n",
    "    order by count(*) desc\n",
    "\"\"\")\n",
    "display(counts_d)"
   ]
  },
  {
   "cell_type": "markdown",
   "metadata": {},
   "source": [
    "Imbalanced classes can cause pain in machine learning. Therefore let’s rebalance. In the flowing we limit the number of elements per class to the amount of the least represented class. This is called undersampling. Other ways of rebalancing can be found here:\n",
    "\n",
    "https://machinelearningmastery.com/tactics-to-combat-imbalanced-classes-in-your-machine-learning-dataset/"
   ]
  },
  {
   "cell_type": "code",
   "execution_count": 16,
   "metadata": {},
   "outputs": [],
   "source": [
    "from pyspark.sql.functions import min\n",
    "\n",
    "# create a lot of distinct classes from the dataset\n",
    "classes = [row[0] for row in df.select('class').distinct().collect()]\n",
    "\n",
    "# compute the number of elements of the smallest class in order to limit the number of samples per calss\n",
    "min = df.groupBy('class').count().select(min('count')).first()[0]\n",
    "\n",
    "# define the result dataframe variable\n",
    "df_balanced = None\n",
    "\n",
    "# iterate over distinct classes\n",
    "for cls in classes:\n",
    "    \n",
    "    # only select examples for the specific class within this iteration\n",
    "    # shuffle the order of the elements (by setting fraction to 1.0 sample works like shuffle)\n",
    "    # return only the first n samples\n",
    "    df_temp = df \\\n",
    "        .filter(\"class = '\"+cls+\"'\") \\\n",
    "        .sample(False, 1.0) \\\n",
    "        .limit(min)\n",
    "    \n",
    "    # on first iteration, assing df_temp to empty df_balanced\n",
    "    if df_balanced == None:    \n",
    "        df_balanced = df_temp\n",
    "    # afterwards, append vertically\n",
    "    else:\n",
    "        df_balanced=df_balanced.union(df_temp)"
   ]
  },
  {
   "cell_type": "markdown",
   "metadata": {},
   "source": [
    "Please verify, by using the code cell below, if df_balanced has the same number of elements per class. You should get 6683 elements per class."
   ]
  },
  {
   "cell_type": "code",
   "execution_count": 18,
   "metadata": {},
   "outputs": [
    {
     "name": "stdout",
     "output_type": "stream",
     "text": [
      "+--------------+-----+\n",
      "|         class|count|\n",
      "+--------------+-----+\n",
      "| Use_telephone| 6683|\n",
      "| Standup_chair| 6683|\n",
      "|      Eat_meat| 6683|\n",
      "|     Getup_bed| 6683|\n",
      "|   Drink_glass| 6683|\n",
      "|    Pour_water| 6683|\n",
      "|     Comb_hair| 6683|\n",
      "|          Walk| 6683|\n",
      "|  Climb_stairs| 6683|\n",
      "| Sitdown_chair| 6683|\n",
      "|   Liedown_bed| 6683|\n",
      "|Descend_stairs| 6683|\n",
      "|   Brush_teeth| 6683|\n",
      "|      Eat_soup| 6683|\n",
      "+--------------+-----+\n",
      "\n"
     ]
    }
   ],
   "source": [
    "df_balanced.groupBy(\"class\").count().show()"
   ]
  },
  {
   "cell_type": "code",
   "execution_count": null,
   "metadata": {
    "pixiedust": {
     "displayParams": {
      "handlerId": "tableView"
     }
    }
   },
   "outputs": [
    {
     "data": {
      "text/html": [
       "<style type=\"text/css\">.pd_warning{display:none;}</style><div class=\"pd_warning\"><em>Hey, there's something awesome here! To see it, open this notebook outside GitHub, in a viewer like Jupyter</em></div>\n",
       "        <div class=\"pd_save is-viewer-good\" style=\"padding-right:10px;text-align: center;line-height:initial !important;font-size: xx-large;font-weight: 500;color: coral;\">\n",
       "            \n",
       "        </div>\n",
       "    <div id=\"chartFigurec290910a\" class=\"pd_save is-viewer-good\" style=\"overflow-x:auto\">\n",
       "            <style type=\"text/css\" class=\"pd_save\">\n",
       "    .df-table-wrapper .panel-heading {\n",
       "      border-radius: 0;\n",
       "      padding: 0px;\n",
       "    }\n",
       "    .df-table-wrapper .panel-heading:hover {\n",
       "      border-color: #008571;\n",
       "    }\n",
       "    .df-table-wrapper .panel-title a {\n",
       "      background-color: #f9f9fb;\n",
       "      color: #333333;\n",
       "      display: block;\n",
       "      outline: none;\n",
       "      padding: 10px 15px;\n",
       "      text-decoration: none;\n",
       "    }\n",
       "    .df-table-wrapper .panel-title a:hover {\n",
       "      background-color: #337ab7;\n",
       "      border-color: #2e6da4;\n",
       "      color: #ffffff;\n",
       "      display: block;\n",
       "      padding: 10px 15px;\n",
       "      text-decoration: none;\n",
       "    }\n",
       "    .df-table-wrapper {\n",
       "      font-size: small;\n",
       "      font-weight: 300;\n",
       "      letter-spacing: 0.5px;\n",
       "      line-height: normal;\n",
       "      height: inherit;\n",
       "      overflow: auto;\n",
       "    }\n",
       "    .df-table-search {\n",
       "      margin: 0 0 20px 0;\n",
       "    }\n",
       "    .df-table-search-count {\n",
       "      display: inline-block;\n",
       "      margin: 0 0 20px 0;\n",
       "    }\n",
       "    .df-table-container {\n",
       "      max-height: 50vh;\n",
       "      max-width: 100%;\n",
       "      overflow-x: auto;\n",
       "      position: relative;\n",
       "    }\n",
       "    .df-table-wrapper table {\n",
       "      border: 0 none #ffffff;\n",
       "      border-collapse: collapse;\n",
       "      margin: 0;\n",
       "      min-width: 100%;\n",
       "      padding: 0;\n",
       "      table-layout: fixed;\n",
       "      height: inherit;\n",
       "      overflow: auto;\n",
       "    }\n",
       "    .df-table-wrapper tr.hidden {\n",
       "      display: none;\n",
       "    }\n",
       "    .df-table-wrapper tr:nth-child(even) {\n",
       "      background-color: #f9f9fb;\n",
       "    }\n",
       "    .df-table-wrapper tr.even {\n",
       "      background-color: #f9f9fb;\n",
       "    }\n",
       "    .df-table-wrapper tr.odd {\n",
       "      background-color: #ffffff;\n",
       "    }\n",
       "    .df-table-wrapper td + td {\n",
       "      border-left: 1px solid #e0e0e0;\n",
       "    }\n",
       "  \n",
       "    .df-table-wrapper thead,\n",
       "    .fixed-header {\n",
       "      font-weight: 600;\n",
       "    }\n",
       "    .df-table-wrapper tr,\n",
       "    .fixed-row {\n",
       "      border: 0 none #ffffff;\n",
       "      margin: 0;\n",
       "      padding: 0;\n",
       "    }\n",
       "    .df-table-wrapper th,\n",
       "    .df-table-wrapper td,\n",
       "    .fixed-cell {\n",
       "      border: 0 none #ffffff;\n",
       "      margin: 0;\n",
       "      min-width: 50px;\n",
       "      padding: 5px 20px 5px 10px;\n",
       "      text-align: left;\n",
       "      word-wrap: break-word;\n",
       "    }\n",
       "    .df-table-wrapper th {\n",
       "      padding-bottom: 0;\n",
       "      padding-top: 0;\n",
       "    }\n",
       "    .df-table-wrapper th div {\n",
       "      max-height: 1px;\n",
       "      visibility: hidden;\n",
       "    }\n",
       "  \n",
       "    .df-schema-field {\n",
       "      margin-left: 10px;\n",
       "    }\n",
       "  \n",
       "    .fixed-header-container {\n",
       "      overflow: hidden;\n",
       "      position: relative;\n",
       "    }\n",
       "    .fixed-header {\n",
       "      border-bottom: 2px solid #000;\n",
       "      display: table;\n",
       "      position: relative;\n",
       "    }\n",
       "    .fixed-row {\n",
       "      display: table-row;\n",
       "    }\n",
       "    .fixed-cell {\n",
       "      display: table-cell;\n",
       "    }\n",
       "  </style>\n",
       "  \n",
       "  \n",
       "  \n",
       "  <div class=\"df-table-wrapper df-table-wrapper-c290910a panel-group pd_save\">\n",
       "    <!-- dataframe schema -->\n",
       "    \n",
       "    <div class=\"panel panel-default\">\n",
       "      <div class=\"panel-heading\">\n",
       "        <h4 class=\"panel-title\" style=\"margin: 0px;\">\n",
       "          <a data-toggle=\"collapse\" href=\"#df-schema-c290910a\" data-parent=\"#df-table-wrapper-c290910a\">Schema</a>\n",
       "        </h4>\n",
       "      </div>\n",
       "      <div id=\"df-schema-c290910a\" class=\"panel-collapse collapse\">\n",
       "        <div class=\"panel-body\" style=\"font-family: monospace;\">\n",
       "          <div class=\"df-schema-fields\">\n",
       "            <div>Field types:</div>\n",
       "            \n",
       "              <div class=\"df-schema-field\"><strong>class: </strong> object</div>\n",
       "            \n",
       "              <div class=\"df-schema-field\"><strong>count: </strong> int64</div>\n",
       "            \n",
       "          </div>\n",
       "        </div>\n",
       "      </div>\n",
       "    </div>\n",
       "    \n",
       "    <!-- dataframe table -->\n",
       "    <div class=\"panel panel-default\">\n",
       "      \n",
       "      <div class=\"panel-heading\">\n",
       "        <h4 class=\"panel-title\" style=\"margin: 0px;\">\n",
       "          <a data-toggle=\"collapse\" href=\"#df-table-c290910a\" data-parent=\"#df-table-wrapper-c290910a\"> Table</a>\n",
       "        </h4>\n",
       "      </div>\n",
       "      \n",
       "      <div id=\"df-table-c290910a\" class=\"panel-collapse collapse in\">\n",
       "        <div class=\"panel-body\">\n",
       "          \n",
       "          <input type=\"text\" class=\"df-table-search form-control input-sm\" placeholder=\"Search table\">\n",
       "          \n",
       "          <div>\n",
       "            \n",
       "            <span class=\"df-table-search-count\">Showing 14 of 14 rows</span>\n",
       "            \n",
       "          </div>\n",
       "          <!-- fixed header for when dataframe table scrolls -->\n",
       "          <div class=\"fixed-header-container\">\n",
       "            <div class=\"fixed-header\">\n",
       "              <div class=\"fixed-row\">\n",
       "                \n",
       "                <div class=\"fixed-cell\">class</div>\n",
       "                \n",
       "                <div class=\"fixed-cell\">count</div>\n",
       "                \n",
       "              </div>\n",
       "            </div>\n",
       "          </div>\n",
       "          <div class=\"df-table-container\">\n",
       "            <table class=\"df-table\">\n",
       "              <thead>\n",
       "                <tr>\n",
       "                  \n",
       "                  <th><div>class</div></th>\n",
       "                  \n",
       "                  <th><div>count</div></th>\n",
       "                  \n",
       "                </tr>\n",
       "              </thead>\n",
       "              <tbody>\n",
       "                \n",
       "                <tr>\n",
       "                  \n",
       "                  <td>Use_telephone</td>\n",
       "                  \n",
       "                  <td>6683</td>\n",
       "                  \n",
       "                </tr>\n",
       "                \n",
       "                <tr>\n",
       "                  \n",
       "                  <td>Standup_chair</td>\n",
       "                  \n",
       "                  <td>6683</td>\n",
       "                  \n",
       "                </tr>\n",
       "                \n",
       "                <tr>\n",
       "                  \n",
       "                  <td>Eat_meat</td>\n",
       "                  \n",
       "                  <td>6683</td>\n",
       "                  \n",
       "                </tr>\n",
       "                \n",
       "                <tr>\n",
       "                  \n",
       "                  <td>Getup_bed</td>\n",
       "                  \n",
       "                  <td>6683</td>\n",
       "                  \n",
       "                </tr>\n",
       "                \n",
       "                <tr>\n",
       "                  \n",
       "                  <td>Drink_glass</td>\n",
       "                  \n",
       "                  <td>6683</td>\n",
       "                  \n",
       "                </tr>\n",
       "                \n",
       "                <tr>\n",
       "                  \n",
       "                  <td>Pour_water</td>\n",
       "                  \n",
       "                  <td>6683</td>\n",
       "                  \n",
       "                </tr>\n",
       "                \n",
       "                <tr>\n",
       "                  \n",
       "                  <td>Comb_hair</td>\n",
       "                  \n",
       "                  <td>6683</td>\n",
       "                  \n",
       "                </tr>\n",
       "                \n",
       "                <tr>\n",
       "                  \n",
       "                  <td>Walk</td>\n",
       "                  \n",
       "                  <td>6683</td>\n",
       "                  \n",
       "                </tr>\n",
       "                \n",
       "                <tr>\n",
       "                  \n",
       "                  <td>Climb_stairs</td>\n",
       "                  \n",
       "                  <td>6683</td>\n",
       "                  \n",
       "                </tr>\n",
       "                \n",
       "                <tr>\n",
       "                  \n",
       "                  <td>Sitdown_chair</td>\n",
       "                  \n",
       "                  <td>6683</td>\n",
       "                  \n",
       "                </tr>\n",
       "                \n",
       "                <tr>\n",
       "                  \n",
       "                  <td>Liedown_bed</td>\n",
       "                  \n",
       "                  <td>6683</td>\n",
       "                  \n",
       "                </tr>\n",
       "                \n",
       "                <tr>\n",
       "                  \n",
       "                  <td>Descend_stairs</td>\n",
       "                  \n",
       "                  <td>6683</td>\n",
       "                  \n",
       "                </tr>\n",
       "                \n",
       "                <tr>\n",
       "                  \n",
       "                  <td>Brush_teeth</td>\n",
       "                  \n",
       "                  <td>6683</td>\n",
       "                  \n",
       "                </tr>\n",
       "                \n",
       "                <tr>\n",
       "                  \n",
       "                  <td>Eat_soup</td>\n",
       "                  \n",
       "                  <td>6683</td>\n",
       "                  \n",
       "                </tr>\n",
       "                \n",
       "              </tbody>\n",
       "            </table>\n",
       "          </div>\n",
       "        </div>\n",
       "      </div>\n",
       "    </div>\n",
       "  </div>\n",
       "  \n",
       "  <script class=\"pd_save\">\n",
       "    $(function() {\n",
       "      var tableWrapper = $('.df-table-wrapper-c290910a');\n",
       "      var fixedHeader = $('.fixed-header', tableWrapper);\n",
       "      var tableContainer = $('.df-table-container', tableWrapper);\n",
       "      var table = $('.df-table', tableContainer);\n",
       "      var rows = $('tbody > tr', table);\n",
       "      var total = 14;\n",
       "  \n",
       "      fixedHeader\n",
       "        .css('width', table.width())\n",
       "        .find('.fixed-cell')\n",
       "        .each(function(i, e) {\n",
       "          $(this).css('width', $('.df-table-wrapper-c290910a th:nth-child(' + (i+1) + ')').css('width'));\n",
       "        });\n",
       "  \n",
       "      tableContainer.scroll(function() {\n",
       "        fixedHeader.css({ left: table.position().left });\n",
       "      });\n",
       "  \n",
       "      rows.on(\"click\", function(e){\n",
       "          // var txt = e.delegateTarget.innerText;\n",
       "          var splits = $(e.delegateTarget).text().trim().replace(/[\\n\\r]/g, '\\t').split(\"\\t\").map(function(item){return item.trim()}).filter(function(item){return item!=\"\"});\n",
       "          // var splits = txt.split(\"\\t\");\n",
       "          var len = splits.length;\n",
       "          var hdrs = $(fixedHeader).find(\".fixed-cell\");\n",
       "          // Add all cells in the selected row as a map to be consumed by the target as needed\n",
       "          var payload = {type:\"select\", targetDivId: \"\" };\n",
       "          for (var i = 0; i < len; i++) {\n",
       "            payload[hdrs[i].innerHTML] = splits[i];\n",
       "          }\n",
       "  \n",
       "          //simple selection highlighting, client adds \"selected\" class\n",
       "          $(this).addClass(\"selected\").siblings().removeClass(\"selected\");\n",
       "          $(document).trigger('pd_event', payload);\n",
       "      });\n",
       "  \n",
       "      $('.df-table-search', tableWrapper).keyup(function() {\n",
       "        var val = '^(?=.*\\\\b' + $.trim($(this).val()).split(/\\s+/).join('\\\\b)(?=.*\\\\b') + ').*$';\n",
       "        var reg = RegExp(val, 'i');\n",
       "        var index = 0;\n",
       "        \n",
       "        rows.each(function(i, e) {\n",
       "          if (!reg.test($(this).text().replace(/\\s+/g, ' '))) {\n",
       "            $(this).attr('class', 'hidden');\n",
       "          }\n",
       "          else {\n",
       "            $(this).attr('class', (++index % 2 == 0 ? 'even' : 'odd'));\n",
       "          }\n",
       "        });\n",
       "        $('.df-table-search-count', tableWrapper).html('Showing ' + index + ' of ' + total + ' rows');\n",
       "      });\n",
       "    });\n",
       "  \n",
       "    $(\".df-table-wrapper td:contains('http://')\").each(function(){var tc = this.textContent; $(this).wrapInner(\"<a target='_blank' href='\" + tc + \"'></a>\");});\n",
       "    $(\".df-table-wrapper td:contains('https://')\").each(function(){var tc = this.textContent; $(this).wrapInner(\"<a target='_blank' href='\" + tc + \"'></a>\");});\n",
       "  </script>\n",
       "  \n",
       "        </div>"
      ],
      "text/plain": [
       "<IPython.core.display.HTML object>"
      ]
     },
     "metadata": {},
     "output_type": "display_data"
    }
   ],
   "source": [
    "display(df_balanced.groupBy(\"class\").count())"
   ]
  },
  {
   "cell_type": "code",
   "execution_count": null,
   "metadata": {},
   "outputs": [],
   "source": []
  }
 ],
 "metadata": {
  "kernelspec": {
   "display_name": "Python 3",
   "language": "python",
   "name": "python3"
  },
  "language_info": {
   "codemirror_mode": {
    "name": "ipython",
    "version": 3
   },
   "file_extension": ".py",
   "mimetype": "text/x-python",
   "name": "python",
   "nbconvert_exporter": "python",
   "pygments_lexer": "ipython3",
   "version": "3.7.6"
  }
 },
 "nbformat": 4,
 "nbformat_minor": 4
}
