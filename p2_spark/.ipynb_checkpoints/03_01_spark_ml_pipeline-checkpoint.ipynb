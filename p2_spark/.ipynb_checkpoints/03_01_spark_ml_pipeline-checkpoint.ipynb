{
 "cells": [
  {
   "cell_type": "code",
   "execution_count": 7,
   "metadata": {},
   "outputs": [],
   "source": [
    "import pyspark\n",
    "import os\n",
    "import glob"
   ]
  },
  {
   "cell_type": "code",
   "execution_count": 3,
   "metadata": {},
   "outputs": [
    {
     "name": "stdout",
     "output_type": "stream",
     "text": [
      "Accelerometer-2011-04-11-13-28-18-brush_teeth-f1.txt\r\n",
      "Accelerometer-2011-04-11-13-29-54-brush_teeth-f1.txt\r\n",
      "Accelerometer-2011-05-30-08-35-11-brush_teeth-f1.txt\r\n",
      "Accelerometer-2011-05-30-09-36-50-brush_teeth-f1.txt\r\n",
      "Accelerometer-2011-05-30-10-34-16-brush_teeth-m1.txt\r\n",
      "Accelerometer-2011-05-30-21-10-57-brush_teeth-f1.txt\r\n",
      "Accelerometer-2011-05-30-21-55-04-brush_teeth-m2.txt\r\n",
      "Accelerometer-2011-05-31-15-16-47-brush_teeth-f1.txt\r\n",
      "Accelerometer-2011-06-02-10-42-22-brush_teeth-f1.txt\r\n",
      "Accelerometer-2011-06-02-10-45-50-brush_teeth-f1.txt\r\n",
      "Accelerometer-2011-06-06-10-45-27-brush_teeth-f1.txt\r\n",
      "Accelerometer-2011-06-06-10-48-05-brush_teeth-f1.txt\r\n"
     ]
    }
   ],
   "source": [
    "!ls hmp_data/Brush_teeth/"
   ]
  },
  {
   "cell_type": "code",
   "execution_count": 4,
   "metadata": {},
   "outputs": [],
   "source": [
    "# first define the schema\n",
    "from pyspark.sql.types import StructField, StructType, IntegerType"
   ]
  },
  {
   "cell_type": "code",
   "execution_count": 5,
   "metadata": {},
   "outputs": [],
   "source": [
    "schema = StructType([\n",
    "    StructField('x', IntegerType(), True),\n",
    "    StructField('y', IntegerType(), True),\n",
    "    StructField('z', IntegerType(), True)\n",
    "])"
   ]
  },
  {
   "cell_type": "code",
   "execution_count": 6,
   "metadata": {},
   "outputs": [
    {
     "data": {
      "text/plain": [
       "StructType(List(StructField(x,IntegerType,true),StructField(y,IntegerType,true),StructField(z,IntegerType,true)))"
      ]
     },
     "execution_count": 6,
     "metadata": {},
     "output_type": "execute_result"
    }
   ],
   "source": [
    "schema"
   ]
  },
  {
   "cell_type": "code",
   "execution_count": 13,
   "metadata": {},
   "outputs": [
    {
     "data": {
      "text/plain": [
       "['hmp_data/Comb_hair',\n",
       " 'hmp_data/Brush_teeth',\n",
       " 'hmp_data/Climb_stairs',\n",
       " 'hmp_data/Standup_chair',\n",
       " 'hmp_data/Eat_soup',\n",
       " 'hmp_data/Use_telephone',\n",
       " 'hmp_data/Sitdown_chair',\n",
       " 'hmp_data/Descend_stairs',\n",
       " 'hmp_data/Getup_bed',\n",
       " 'hmp_data/Eat_meat',\n",
       " 'hmp_data/Pour_water',\n",
       " 'hmp_data/Drink_glass',\n",
       " 'hmp_data/Liedown_bed']"
      ]
     },
     "execution_count": 13,
     "metadata": {},
     "output_type": "execute_result"
    }
   ],
   "source": [
    "class_folders = glob.glob('hmp_data/*_*')\n",
    "class_folders"
   ]
  },
  {
   "cell_type": "code",
   "execution_count": 19,
   "metadata": {},
   "outputs": [],
   "source": [
    "spark = pyspark.sql.SparkSession.builder.getOrCreate()"
   ]
  },
  {
   "cell_type": "code",
   "execution_count": 38,
   "metadata": {},
   "outputs": [],
   "source": [
    "# we can import a literal to deal with data type for class\n",
    "from pyspark.sql.functions import lit"
   ]
  },
  {
   "cell_type": "code",
   "execution_count": 55,
   "metadata": {},
   "outputs": [
    {
     "name": "stdout",
     "output_type": "stream",
     "text": [
      "hmp_data/Comb_hair\n",
      "hmp_data/Brush_teeth\n",
      "hmp_data/Climb_stairs\n",
      "hmp_data/Standup_chair\n",
      "hmp_data/Eat_soup\n",
      "hmp_data/Use_telephone\n",
      "hmp_data/Sitdown_chair\n",
      "hmp_data/Descend_stairs\n",
      "hmp_data/Getup_bed\n",
      "hmp_data/Eat_meat\n",
      "hmp_data/Pour_water\n",
      "hmp_data/Drink_glass\n",
      "hmp_data/Liedown_bed\n"
     ]
    }
   ],
   "source": [
    "def read_df(list_of_files, class_name):\n",
    "    df = spark.read \\\n",
    "            .option(\"header\", \"false\") \\\n",
    "            .option(\"delimiter\", \" \") \\\n",
    "            .csv(list_of_files, schema=schema)\n",
    "    \n",
    "    df = df.withColumn(\"class\", lit(class_name)).withColumn(\"source\", lit(list_of_files[0]))\n",
    "    \n",
    "    return df\n",
    "\n",
    "df = None\n",
    "\n",
    "for cat in class_folders:\n",
    "    print(cat)\n",
    "    \n",
    "    tempdf = read_df(glob.glob(cat), class_name=cat.split(\"/\")[1])\n",
    "    \n",
    "    if df == None:\n",
    "        df = tempdf\n",
    "    else:\n",
    "        df = df.union(tempdf)"
   ]
  },
  {
   "cell_type": "code",
   "execution_count": 56,
   "metadata": {},
   "outputs": [
    {
     "data": {
      "text/plain": [
       "354275"
      ]
     },
     "execution_count": 56,
     "metadata": {},
     "output_type": "execute_result"
    }
   ],
   "source": [
    "df.count()"
   ]
  },
  {
   "cell_type": "code",
   "execution_count": 58,
   "metadata": {},
   "outputs": [
    {
     "name": "stdout",
     "output_type": "stream",
     "text": [
      "+--------------+-----+\n",
      "|         class|count|\n",
      "+--------------+-----+\n",
      "| Use_telephone|15225|\n",
      "| Standup_chair|25417|\n",
      "|      Eat_meat|31236|\n",
      "|     Getup_bed|45801|\n",
      "|   Drink_glass|42792|\n",
      "|    Pour_water|41673|\n",
      "|     Comb_hair|23504|\n",
      "|  Climb_stairs|40258|\n",
      "| Sitdown_chair|25036|\n",
      "|   Liedown_bed|11446|\n",
      "|Descend_stairs|15375|\n",
      "|   Brush_teeth|29829|\n",
      "|      Eat_soup| 6683|\n",
      "+--------------+-----+\n",
      "\n"
     ]
    }
   ],
   "source": [
    "df.groupBy(\"class\").count().show()"
   ]
  },
  {
   "cell_type": "code",
   "execution_count": 59,
   "metadata": {},
   "outputs": [
    {
     "name": "stdout",
     "output_type": "stream",
     "text": [
      "+---+---+---+---------+------------------+\n",
      "|  x|  y|  z|    class|            source|\n",
      "+---+---+---+---------+------------------+\n",
      "| 33| 37| 53|Comb_hair|hmp_data/Comb_hair|\n",
      "| 33| 37| 53|Comb_hair|hmp_data/Comb_hair|\n",
      "| 35| 36| 52|Comb_hair|hmp_data/Comb_hair|\n",
      "| 34| 37| 53|Comb_hair|hmp_data/Comb_hair|\n",
      "| 35| 37| 51|Comb_hair|hmp_data/Comb_hair|\n",
      "+---+---+---+---------+------------------+\n",
      "only showing top 5 rows\n",
      "\n"
     ]
    }
   ],
   "source": [
    "df.show(5)"
   ]
  },
  {
   "cell_type": "code",
   "execution_count": 60,
   "metadata": {},
   "outputs": [
    {
     "name": "stdout",
     "output_type": "stream",
     "text": [
      "+---+---+---+---------+------------------+----------+\n",
      "|  x|  y|  z|    class|            source|classIndex|\n",
      "+---+---+---+---------+------------------+----------+\n",
      "| 33| 37| 53|Comb_hair|hmp_data/Comb_hair|       8.0|\n",
      "| 33| 37| 53|Comb_hair|hmp_data/Comb_hair|       8.0|\n",
      "| 35| 36| 52|Comb_hair|hmp_data/Comb_hair|       8.0|\n",
      "| 34| 37| 53|Comb_hair|hmp_data/Comb_hair|       8.0|\n",
      "| 35| 37| 51|Comb_hair|hmp_data/Comb_hair|       8.0|\n",
      "| 34| 38| 52|Comb_hair|hmp_data/Comb_hair|       8.0|\n",
      "| 33| 38| 51|Comb_hair|hmp_data/Comb_hair|       8.0|\n",
      "| 34| 38| 52|Comb_hair|hmp_data/Comb_hair|       8.0|\n",
      "| 35| 37| 51|Comb_hair|hmp_data/Comb_hair|       8.0|\n",
      "| 33| 39| 52|Comb_hair|hmp_data/Comb_hair|       8.0|\n",
      "| 33| 37| 52|Comb_hair|hmp_data/Comb_hair|       8.0|\n",
      "| 33| 37| 53|Comb_hair|hmp_data/Comb_hair|       8.0|\n",
      "| 34| 37| 52|Comb_hair|hmp_data/Comb_hair|       8.0|\n",
      "| 34| 38| 52|Comb_hair|hmp_data/Comb_hair|       8.0|\n",
      "| 34| 38| 52|Comb_hair|hmp_data/Comb_hair|       8.0|\n",
      "| 34| 38| 52|Comb_hair|hmp_data/Comb_hair|       8.0|\n",
      "| 34| 39| 52|Comb_hair|hmp_data/Comb_hair|       8.0|\n",
      "| 35| 37| 52|Comb_hair|hmp_data/Comb_hair|       8.0|\n",
      "| 33| 38| 51|Comb_hair|hmp_data/Comb_hair|       8.0|\n",
      "| 34| 39| 51|Comb_hair|hmp_data/Comb_hair|       8.0|\n",
      "+---+---+---+---------+------------------+----------+\n",
      "only showing top 20 rows\n",
      "\n"
     ]
    }
   ],
   "source": [
    "# string index the class column\n",
    "\n",
    "from pyspark.ml.feature import StringIndexer\n",
    "\n",
    "indexer = StringIndexer(inputCol=\"class\", outputCol=\"classIndex\")\n",
    "\n",
    "indexed_df = indexer.fit(df).transform(df)\n",
    "\n",
    "indexed_df.show()"
   ]
  },
  {
   "cell_type": "code",
   "execution_count": 62,
   "metadata": {},
   "outputs": [
    {
     "name": "stdout",
     "output_type": "stream",
     "text": [
      "+----------+-----+\n",
      "|classIndex|count|\n",
      "+----------+-----+\n",
      "|       8.0|23504|\n",
      "|       0.0|45801|\n",
      "|       7.0|25036|\n",
      "|       1.0|42792|\n",
      "|       4.0|31236|\n",
      "|      11.0|11446|\n",
      "|       3.0|40258|\n",
      "|       2.0|41673|\n",
      "|      10.0|15225|\n",
      "|       6.0|25417|\n",
      "|       5.0|29829|\n",
      "|       9.0|15375|\n",
      "|      12.0| 6683|\n",
      "+----------+-----+\n",
      "\n"
     ]
    }
   ],
   "source": [
    "indexed_df.groupBy(\"classIndex\").count().show()"
   ]
  },
  {
   "cell_type": "code",
   "execution_count": 64,
   "metadata": {},
   "outputs": [],
   "source": [
    "# perform one hot encoding (vec field) in spark\n",
    "\n",
    "from pyspark.ml.feature import OneHotEncoder"
   ]
  },
  {
   "cell_type": "code",
   "execution_count": 66,
   "metadata": {},
   "outputs": [
    {
     "name": "stdout",
     "output_type": "stream",
     "text": [
      "+---+---+---+---------+------------------+----------+--------------+\n",
      "|  x|  y|  z|    class|            source|classIndex|   categoryVec|\n",
      "+---+---+---+---------+------------------+----------+--------------+\n",
      "| 33| 37| 53|Comb_hair|hmp_data/Comb_hair|       8.0|(12,[8],[1.0])|\n",
      "| 33| 37| 53|Comb_hair|hmp_data/Comb_hair|       8.0|(12,[8],[1.0])|\n",
      "| 35| 36| 52|Comb_hair|hmp_data/Comb_hair|       8.0|(12,[8],[1.0])|\n",
      "| 34| 37| 53|Comb_hair|hmp_data/Comb_hair|       8.0|(12,[8],[1.0])|\n",
      "| 35| 37| 51|Comb_hair|hmp_data/Comb_hair|       8.0|(12,[8],[1.0])|\n",
      "| 34| 38| 52|Comb_hair|hmp_data/Comb_hair|       8.0|(12,[8],[1.0])|\n",
      "| 33| 38| 51|Comb_hair|hmp_data/Comb_hair|       8.0|(12,[8],[1.0])|\n",
      "| 34| 38| 52|Comb_hair|hmp_data/Comb_hair|       8.0|(12,[8],[1.0])|\n",
      "| 35| 37| 51|Comb_hair|hmp_data/Comb_hair|       8.0|(12,[8],[1.0])|\n",
      "| 33| 39| 52|Comb_hair|hmp_data/Comb_hair|       8.0|(12,[8],[1.0])|\n",
      "| 33| 37| 52|Comb_hair|hmp_data/Comb_hair|       8.0|(12,[8],[1.0])|\n",
      "| 33| 37| 53|Comb_hair|hmp_data/Comb_hair|       8.0|(12,[8],[1.0])|\n",
      "| 34| 37| 52|Comb_hair|hmp_data/Comb_hair|       8.0|(12,[8],[1.0])|\n",
      "| 34| 38| 52|Comb_hair|hmp_data/Comb_hair|       8.0|(12,[8],[1.0])|\n",
      "| 34| 38| 52|Comb_hair|hmp_data/Comb_hair|       8.0|(12,[8],[1.0])|\n",
      "| 34| 38| 52|Comb_hair|hmp_data/Comb_hair|       8.0|(12,[8],[1.0])|\n",
      "| 34| 39| 52|Comb_hair|hmp_data/Comb_hair|       8.0|(12,[8],[1.0])|\n",
      "| 35| 37| 52|Comb_hair|hmp_data/Comb_hair|       8.0|(12,[8],[1.0])|\n",
      "| 33| 38| 51|Comb_hair|hmp_data/Comb_hair|       8.0|(12,[8],[1.0])|\n",
      "| 34| 39| 51|Comb_hair|hmp_data/Comb_hair|       8.0|(12,[8],[1.0])|\n",
      "+---+---+---+---------+------------------+----------+--------------+\n",
      "only showing top 20 rows\n",
      "\n"
     ]
    }
   ],
   "source": [
    "encoder = OneHotEncoder(inputCol=\"classIndex\", outputCol=\"categoryVec\")\n",
    "\n",
    "encoded = encoder.transform(indexed_df)\n",
    "\n",
    "encoded.show()"
   ]
  },
  {
   "cell_type": "code",
   "execution_count": 67,
   "metadata": {},
   "outputs": [
    {
     "name": "stdout",
     "output_type": "stream",
     "text": [
      "+---------------+-----+\n",
      "|    categoryVec|count|\n",
      "+---------------+-----+\n",
      "| (12,[0],[1.0])|45801|\n",
      "| (12,[8],[1.0])|23504|\n",
      "| (12,[9],[1.0])|15375|\n",
      "|(12,[10],[1.0])|15225|\n",
      "| (12,[1],[1.0])|42792|\n",
      "| (12,[4],[1.0])|31236|\n",
      "| (12,[3],[1.0])|40258|\n",
      "| (12,[6],[1.0])|25417|\n",
      "| (12,[5],[1.0])|29829|\n",
      "| (12,[2],[1.0])|41673|\n",
      "| (12,[7],[1.0])|25036|\n",
      "|(12,[11],[1.0])|11446|\n",
      "|     (12,[],[])| 6683|\n",
      "+---------------+-----+\n",
      "\n"
     ]
    }
   ],
   "source": [
    "encoded.groupBy(\"categoryVec\").count().show()"
   ]
  },
  {
   "cell_type": "code",
   "execution_count": 68,
   "metadata": {},
   "outputs": [],
   "source": [
    "from pyspark.ml.linalg import Vector, Vectors, VectorUDT\n",
    "from pyspark.ml.feature import VectorAssembler"
   ]
  },
  {
   "cell_type": "code",
   "execution_count": 69,
   "metadata": {},
   "outputs": [],
   "source": [
    "vectorAssembler = VectorAssembler(inputCols=[\"x\", \"y\", \"z\"], \n",
    "                                 outputCol=\"features\")\n",
    "\n",
    "features = vectorAssembler.transform(encoded)"
   ]
  },
  {
   "cell_type": "code",
   "execution_count": 70,
   "metadata": {},
   "outputs": [
    {
     "name": "stdout",
     "output_type": "stream",
     "text": [
      "+---+---+---+---------+------------------+----------+--------------+----------------+\n",
      "|  x|  y|  z|    class|            source|classIndex|   categoryVec|        features|\n",
      "+---+---+---+---------+------------------+----------+--------------+----------------+\n",
      "| 33| 37| 53|Comb_hair|hmp_data/Comb_hair|       8.0|(12,[8],[1.0])|[33.0,37.0,53.0]|\n",
      "| 33| 37| 53|Comb_hair|hmp_data/Comb_hair|       8.0|(12,[8],[1.0])|[33.0,37.0,53.0]|\n",
      "| 35| 36| 52|Comb_hair|hmp_data/Comb_hair|       8.0|(12,[8],[1.0])|[35.0,36.0,52.0]|\n",
      "| 34| 37| 53|Comb_hair|hmp_data/Comb_hair|       8.0|(12,[8],[1.0])|[34.0,37.0,53.0]|\n",
      "| 35| 37| 51|Comb_hair|hmp_data/Comb_hair|       8.0|(12,[8],[1.0])|[35.0,37.0,51.0]|\n",
      "| 34| 38| 52|Comb_hair|hmp_data/Comb_hair|       8.0|(12,[8],[1.0])|[34.0,38.0,52.0]|\n",
      "| 33| 38| 51|Comb_hair|hmp_data/Comb_hair|       8.0|(12,[8],[1.0])|[33.0,38.0,51.0]|\n",
      "| 34| 38| 52|Comb_hair|hmp_data/Comb_hair|       8.0|(12,[8],[1.0])|[34.0,38.0,52.0]|\n",
      "| 35| 37| 51|Comb_hair|hmp_data/Comb_hair|       8.0|(12,[8],[1.0])|[35.0,37.0,51.0]|\n",
      "| 33| 39| 52|Comb_hair|hmp_data/Comb_hair|       8.0|(12,[8],[1.0])|[33.0,39.0,52.0]|\n",
      "| 33| 37| 52|Comb_hair|hmp_data/Comb_hair|       8.0|(12,[8],[1.0])|[33.0,37.0,52.0]|\n",
      "| 33| 37| 53|Comb_hair|hmp_data/Comb_hair|       8.0|(12,[8],[1.0])|[33.0,37.0,53.0]|\n",
      "| 34| 37| 52|Comb_hair|hmp_data/Comb_hair|       8.0|(12,[8],[1.0])|[34.0,37.0,52.0]|\n",
      "| 34| 38| 52|Comb_hair|hmp_data/Comb_hair|       8.0|(12,[8],[1.0])|[34.0,38.0,52.0]|\n",
      "| 34| 38| 52|Comb_hair|hmp_data/Comb_hair|       8.0|(12,[8],[1.0])|[34.0,38.0,52.0]|\n",
      "| 34| 38| 52|Comb_hair|hmp_data/Comb_hair|       8.0|(12,[8],[1.0])|[34.0,38.0,52.0]|\n",
      "| 34| 39| 52|Comb_hair|hmp_data/Comb_hair|       8.0|(12,[8],[1.0])|[34.0,39.0,52.0]|\n",
      "| 35| 37| 52|Comb_hair|hmp_data/Comb_hair|       8.0|(12,[8],[1.0])|[35.0,37.0,52.0]|\n",
      "| 33| 38| 51|Comb_hair|hmp_data/Comb_hair|       8.0|(12,[8],[1.0])|[33.0,38.0,51.0]|\n",
      "| 34| 39| 51|Comb_hair|hmp_data/Comb_hair|       8.0|(12,[8],[1.0])|[34.0,39.0,51.0]|\n",
      "+---+---+---+---------+------------------+----------+--------------+----------------+\n",
      "only showing top 20 rows\n",
      "\n"
     ]
    }
   ],
   "source": [
    "features.show()"
   ]
  },
  {
   "cell_type": "code",
   "execution_count": 71,
   "metadata": {},
   "outputs": [],
   "source": [
    "# normalize the data"
   ]
  },
  {
   "cell_type": "code",
   "execution_count": 92,
   "metadata": {},
   "outputs": [
    {
     "name": "stdout",
     "output_type": "stream",
     "text": [
      "+---+---+---+---------+------------------+----------+--------------+----------------+--------------------+\n",
      "|  x|  y|  z|    class|            source|classIndex|   categoryVec|        features|       features_norm|\n",
      "+---+---+---+---------+------------------+----------+--------------+----------------+--------------------+\n",
      "| 33| 37| 53|Comb_hair|hmp_data/Comb_hair|       8.0|(12,[8],[1.0])|[33.0,37.0,53.0]|[0.26829268292682...|\n",
      "| 33| 37| 53|Comb_hair|hmp_data/Comb_hair|       8.0|(12,[8],[1.0])|[33.0,37.0,53.0]|[0.26829268292682...|\n",
      "| 35| 36| 52|Comb_hair|hmp_data/Comb_hair|       8.0|(12,[8],[1.0])|[35.0,36.0,52.0]|[0.28455284552845...|\n",
      "| 34| 37| 53|Comb_hair|hmp_data/Comb_hair|       8.0|(12,[8],[1.0])|[34.0,37.0,53.0]|[0.27419354838709...|\n",
      "| 35| 37| 51|Comb_hair|hmp_data/Comb_hair|       8.0|(12,[8],[1.0])|[35.0,37.0,51.0]|[0.28455284552845...|\n",
      "| 34| 38| 52|Comb_hair|hmp_data/Comb_hair|       8.0|(12,[8],[1.0])|[34.0,38.0,52.0]|[0.27419354838709...|\n",
      "| 33| 38| 51|Comb_hair|hmp_data/Comb_hair|       8.0|(12,[8],[1.0])|[33.0,38.0,51.0]|[0.27049180327868...|\n",
      "| 34| 38| 52|Comb_hair|hmp_data/Comb_hair|       8.0|(12,[8],[1.0])|[34.0,38.0,52.0]|[0.27419354838709...|\n",
      "| 35| 37| 51|Comb_hair|hmp_data/Comb_hair|       8.0|(12,[8],[1.0])|[35.0,37.0,51.0]|[0.28455284552845...|\n",
      "| 33| 39| 52|Comb_hair|hmp_data/Comb_hair|       8.0|(12,[8],[1.0])|[33.0,39.0,52.0]|[0.26612903225806...|\n",
      "| 33| 37| 52|Comb_hair|hmp_data/Comb_hair|       8.0|(12,[8],[1.0])|[33.0,37.0,52.0]|[0.27049180327868...|\n",
      "| 33| 37| 53|Comb_hair|hmp_data/Comb_hair|       8.0|(12,[8],[1.0])|[33.0,37.0,53.0]|[0.26829268292682...|\n",
      "| 34| 37| 52|Comb_hair|hmp_data/Comb_hair|       8.0|(12,[8],[1.0])|[34.0,37.0,52.0]|[0.27642276422764...|\n",
      "| 34| 38| 52|Comb_hair|hmp_data/Comb_hair|       8.0|(12,[8],[1.0])|[34.0,38.0,52.0]|[0.27419354838709...|\n",
      "| 34| 38| 52|Comb_hair|hmp_data/Comb_hair|       8.0|(12,[8],[1.0])|[34.0,38.0,52.0]|[0.27419354838709...|\n",
      "| 34| 38| 52|Comb_hair|hmp_data/Comb_hair|       8.0|(12,[8],[1.0])|[34.0,38.0,52.0]|[0.27419354838709...|\n",
      "| 34| 39| 52|Comb_hair|hmp_data/Comb_hair|       8.0|(12,[8],[1.0])|[34.0,39.0,52.0]| [0.272,0.312,0.416]|\n",
      "| 35| 37| 52|Comb_hair|hmp_data/Comb_hair|       8.0|(12,[8],[1.0])|[35.0,37.0,52.0]|[0.28225806451612...|\n",
      "| 33| 38| 51|Comb_hair|hmp_data/Comb_hair|       8.0|(12,[8],[1.0])|[33.0,38.0,51.0]|[0.27049180327868...|\n",
      "| 34| 39| 51|Comb_hair|hmp_data/Comb_hair|       8.0|(12,[8],[1.0])|[34.0,39.0,51.0]|[0.27419354838709...|\n",
      "+---+---+---+---------+------------------+----------+--------------+----------------+--------------------+\n",
      "only showing top 20 rows\n",
      "\n"
     ]
    }
   ],
   "source": [
    "from pyspark.ml.feature import Normalizer, StandardScaler\n",
    "\n",
    "normalizer = Normalizer(inputCol=\"features\", outputCol=\"features_norm\", p=1.0)\n",
    "\n",
    "normalized_data = normalizer.transform(features)\n",
    "\n",
    "normalized_data.show()"
   ]
  },
  {
   "cell_type": "code",
   "execution_count": 93,
   "metadata": {},
   "outputs": [
    {
     "data": {
      "text/plain": [
       "[Row(features_norm=DenseVector([0.2683, 0.3008, 0.4309])),\n",
       " Row(features_norm=DenseVector([0.2683, 0.3008, 0.4309])),\n",
       " Row(features_norm=DenseVector([0.2846, 0.2927, 0.4228])),\n",
       " Row(features_norm=DenseVector([0.2742, 0.2984, 0.4274])),\n",
       " Row(features_norm=DenseVector([0.2846, 0.3008, 0.4146]))]"
      ]
     },
     "execution_count": 93,
     "metadata": {},
     "output_type": "execute_result"
    }
   ],
   "source": [
    "normalized_data.select(\"features_norm\").rdd.take(5)"
   ]
  },
  {
   "cell_type": "code",
   "execution_count": 94,
   "metadata": {},
   "outputs": [],
   "source": [
    "x = normalized_data.select(\"features_norm\").rdd.map(lambda x: x[0][0] + x[0][1] + x[0][2])"
   ]
  },
  {
   "cell_type": "code",
   "execution_count": 115,
   "metadata": {},
   "outputs": [],
   "source": [
    "standScaler = StandardScaler(withMean=True, inputCol=\"features\", outputCol=\"standardized\")\n",
    "\n",
    "standardized_data = standScaler.fit(features).transform(features)"
   ]
  },
  {
   "cell_type": "code",
   "execution_count": 116,
   "metadata": {},
   "outputs": [
    {
     "data": {
      "text/plain": [
       "[Row(standardized=DenseVector([0.4693, -0.1552, 1.145])),\n",
       " Row(standardized=DenseVector([0.4693, -0.1552, 1.145])),\n",
       " Row(standardized=DenseVector([0.6402, -0.274, 1.0249])),\n",
       " Row(standardized=DenseVector([0.5547, -0.1552, 1.145])),\n",
       " Row(standardized=DenseVector([0.6402, -0.1552, 0.9048]))]"
      ]
     },
     "execution_count": 116,
     "metadata": {},
     "output_type": "execute_result"
    }
   ],
   "source": [
    "standardized_data.select(\"standardized\").rdd.take(5)"
   ]
  },
  {
   "cell_type": "code",
   "execution_count": 125,
   "metadata": {},
   "outputs": [
    {
     "name": "stdout",
     "output_type": "stream",
     "text": [
      "+---+---+---+---------+------------------+----------+--------------+----------------+--------------------+\n",
      "|  x|  y|  z|    class|            source|classIndex|   categoryVec|        features|        standardized|\n",
      "+---+---+---+---------+------------------+----------+--------------+----------------+--------------------+\n",
      "| 33| 37| 53|Comb_hair|hmp_data/Comb_hair|       8.0|(12,[8],[1.0])|[33.0,37.0,53.0]|[0.46928836329523...|\n",
      "| 33| 37| 53|Comb_hair|hmp_data/Comb_hair|       8.0|(12,[8],[1.0])|[33.0,37.0,53.0]|[0.46928836329523...|\n",
      "| 35| 36| 52|Comb_hair|hmp_data/Comb_hair|       8.0|(12,[8],[1.0])|[35.0,36.0,52.0]|[0.64019088509803...|\n",
      "| 34| 37| 53|Comb_hair|hmp_data/Comb_hair|       8.0|(12,[8],[1.0])|[34.0,37.0,53.0]|[0.55473962419663...|\n",
      "| 35| 37| 51|Comb_hair|hmp_data/Comb_hair|       8.0|(12,[8],[1.0])|[35.0,37.0,51.0]|[0.64019088509803...|\n",
      "| 34| 38| 52|Comb_hair|hmp_data/Comb_hair|       8.0|(12,[8],[1.0])|[34.0,38.0,52.0]|[0.55473962419663...|\n",
      "| 33| 38| 51|Comb_hair|hmp_data/Comb_hair|       8.0|(12,[8],[1.0])|[33.0,38.0,51.0]|[0.46928836329523...|\n",
      "| 34| 38| 52|Comb_hair|hmp_data/Comb_hair|       8.0|(12,[8],[1.0])|[34.0,38.0,52.0]|[0.55473962419663...|\n",
      "| 35| 37| 51|Comb_hair|hmp_data/Comb_hair|       8.0|(12,[8],[1.0])|[35.0,37.0,51.0]|[0.64019088509803...|\n",
      "| 33| 39| 52|Comb_hair|hmp_data/Comb_hair|       8.0|(12,[8],[1.0])|[33.0,39.0,52.0]|[0.46928836329523...|\n",
      "| 33| 37| 52|Comb_hair|hmp_data/Comb_hair|       8.0|(12,[8],[1.0])|[33.0,37.0,52.0]|[0.46928836329523...|\n",
      "| 33| 37| 53|Comb_hair|hmp_data/Comb_hair|       8.0|(12,[8],[1.0])|[33.0,37.0,53.0]|[0.46928836329523...|\n",
      "| 34| 37| 52|Comb_hair|hmp_data/Comb_hair|       8.0|(12,[8],[1.0])|[34.0,37.0,52.0]|[0.55473962419663...|\n",
      "| 34| 38| 52|Comb_hair|hmp_data/Comb_hair|       8.0|(12,[8],[1.0])|[34.0,38.0,52.0]|[0.55473962419663...|\n",
      "| 34| 38| 52|Comb_hair|hmp_data/Comb_hair|       8.0|(12,[8],[1.0])|[34.0,38.0,52.0]|[0.55473962419663...|\n",
      "| 34| 38| 52|Comb_hair|hmp_data/Comb_hair|       8.0|(12,[8],[1.0])|[34.0,38.0,52.0]|[0.55473962419663...|\n",
      "| 34| 39| 52|Comb_hair|hmp_data/Comb_hair|       8.0|(12,[8],[1.0])|[34.0,39.0,52.0]|[0.55473962419663...|\n",
      "| 35| 37| 52|Comb_hair|hmp_data/Comb_hair|       8.0|(12,[8],[1.0])|[35.0,37.0,52.0]|[0.64019088509803...|\n",
      "| 33| 38| 51|Comb_hair|hmp_data/Comb_hair|       8.0|(12,[8],[1.0])|[33.0,38.0,51.0]|[0.46928836329523...|\n",
      "| 34| 39| 51|Comb_hair|hmp_data/Comb_hair|       8.0|(12,[8],[1.0])|[34.0,39.0,51.0]|[0.55473962419663...|\n",
      "+---+---+---+---------+------------------+----------+--------------+----------------+--------------------+\n",
      "only showing top 20 rows\n",
      "\n"
     ]
    }
   ],
   "source": [
    "standardized_data.show()"
   ]
  },
  {
   "cell_type": "markdown",
   "metadata": {},
   "source": [
    "# ETL"
   ]
  },
  {
   "cell_type": "code",
   "execution_count": 126,
   "metadata": {},
   "outputs": [],
   "source": [
    "standardized_data.write.parquet(\"processed_hmp_data.parquet\")"
   ]
  },
  {
   "cell_type": "code",
   "execution_count": 127,
   "metadata": {},
   "outputs": [
    {
     "name": "stdout",
     "output_type": "stream",
     "text": [
      "total 1884\r\n",
      "drwxr-xr-x  2 xuren xuren  16384 Apr 26 11:25 processed_hmp_data.parquet\r\n",
      "-rw-r--r--  1 xuren xuren  25253 Apr 26 11:23 03_01_spark_ml_pipeline.ipynb\r\n",
      "drwxr-xr-x 17 xuren xuren   4096 Apr 26 08:49 hmp_data\r\n",
      "-rw-r--r--  1 xuren xuren 167239 Apr 25 00:17 a0_m4_exercice3.2_spark2.3_python3.5_cos.ipynb\r\n",
      "-rw-r--r--  1 xuren xuren 112048 Apr 25 00:12 washing.parquet\r\n",
      "-rw-r--r--  1 xuren xuren 342175 Apr 25 00:07 02_plotting.ipynb\r\n",
      "-rw-r--r--  1 xuren xuren 160079 Apr 24 23:03 a0_m4_exercice3.1_spark2.3_python3.5_cos.ipynb\r\n",
      "-rw-r--r--  1 xuren xuren   9805 Apr 24 22:35 02_scratch.ipynb\r\n",
      "-rw-r--r--  1 xuren xuren  73468 Apr 24 22:24 a6_w2_ex1.ipynb\r\n",
      "-rw-r--r--  1 xuren xuren 932997 Apr 24 22:18 hmp.parquet\r\n",
      "-rw-r--r--  1 xuren xuren  46391 Apr 24 21:52 02_statistical_moments.ipynb\r\n",
      "-rw-r--r--  1 xuren xuren   2724 Apr 24 17:55 a6_w1_ex1.ipynb\r\n",
      "-rw-r--r--  1 xuren xuren   5579 Apr 24 17:46 a6_w1_ex3.ipynb\r\n",
      "-rw-r--r--  1 xuren xuren   3788 Apr 24 17:46 pyspark0.ipynb\r\n",
      "drwxr-xr-x  2 xuren xuren   4096 Apr 23 19:11 spark-warehouse\r\n"
     ]
    }
   ],
   "source": [
    "!ls -lt"
   ]
  },
  {
   "cell_type": "code",
   "execution_count": null,
   "metadata": {},
   "outputs": [],
   "source": []
  }
 ],
 "metadata": {
  "kernelspec": {
   "display_name": "Python 3",
   "language": "python",
   "name": "python3"
  },
  "language_info": {
   "codemirror_mode": {
    "name": "ipython",
    "version": 3
   },
   "file_extension": ".py",
   "mimetype": "text/x-python",
   "name": "python",
   "nbconvert_exporter": "python",
   "pygments_lexer": "ipython3",
   "version": "3.7.6"
  }
 },
 "nbformat": 4,
 "nbformat_minor": 4
}
